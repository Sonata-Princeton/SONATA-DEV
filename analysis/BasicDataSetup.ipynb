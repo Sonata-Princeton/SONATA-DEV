{
 "cells": [
  {
   "cell_type": "code",
   "execution_count": 44,
   "metadata": {
    "collapsed": true
   },
   "outputs": [],
   "source": [
    "# Get Data\n",
    "import hashlib\n",
    "import math\n",
    "import json \n",
    "from netaddr import *\n",
    "\n",
    "# Load data\n",
    "baseDir = os.path.join('/mnt/caida/')\n",
    "flows_File = os.path.join(baseDir, '*.csv')"
   ]
  },
  {
   "cell_type": "code",
   "execution_count": 32,
   "metadata": {
    "collapsed": false
   },
   "outputs": [],
   "source": [
    "# Time Slot\n",
    "T = 1 #*1000 # 10 seconds\n",
    "\n",
    "def parseData(logline):\n",
    "    return tuple(logline.split(\",\"))\n",
    "\n",
    "flows = (sc\n",
    "         .textFile(flows_File)\n",
    "         .map(parseData)\n",
    "#          .map(lambda s: (float(s[0]),s[2:]))\n",
    "         .map(lambda s:tuple([int(math.ceil(float(s[0])/T))]+(list(s[2:]))))\n",
    "         .filter(lambda s: (float(s[0])>1453381244 and float(s[0])<=1453381544))\n",
    "         .cache()\n",
    "         )\n",
    "\n",
    "\n",
    "# print T"
   ]
  },
  {
   "cell_type": "code",
   "execution_count": 33,
   "metadata": {
    "collapsed": false
   },
   "outputs": [
    {
     "name": "stdout",
     "output_type": "stream",
     "text": [
      "[(1453381424, u'132.195.250.61', u'6271', u'157.14.30.157', u'56881', u'131', u'17', u'88:b6:dd:60:f4:e5', u'6e:3b:3d:5d:86:e6')]\n"
     ]
    }
   ],
   "source": [
    "print flows.take(1)\n"
   ]
  },
  {
   "cell_type": "code",
   "execution_count": 34,
   "metadata": {
    "collapsed": true
   },
   "outputs": [],
   "source": [
    "def toCSVLine(data):\n",
    "  return ','.join(str(d) for d in data)\n",
    "\n",
    "lines = flows.map(toCSVLine)\n",
    "lines.saveAsTextFile('/mnt/caida_5min.csv')"
   ]
  },
  {
   "cell_type": "code",
   "execution_count": 57,
   "metadata": {
    "collapsed": true
   },
   "outputs": [],
   "source": [
    "baseDir = os.path.join('/home/arp/')\n",
    "flows_File = os.path.join(baseDir, 'campus_dns_5mins.csv')\n",
    "\n",
    "campus = (sc\n",
    "         .textFile(flows_File)\n",
    "         .map(parseData)\n",
    "         .map(lambda s: tuple([int(math.ceil(float(s[0])/T))]+(list(s[1:]))))\n",
    "         )"
   ]
  },
  {
   "cell_type": "markdown",
   "metadata": {
    "collapsed": true
   },
   "source": [
    "# ANON"
   ]
  },
  {
   "cell_type": "code",
   "execution_count": 2,
   "metadata": {
    "collapsed": true
   },
   "outputs": [],
   "source": [
    "# Get Data\n",
    "import hashlib\n",
    "import math\n",
    "import json \n",
    "\n",
    "# Load data\n",
    "baseDir = os.path.join('/mnt')\n",
    "flows_File = os.path.join(baseDir, 'anon_all_flows_2h.csv')"
   ]
  },
  {
   "cell_type": "code",
   "execution_count": 1,
   "metadata": {
    "collapsed": false
   },
   "outputs": [
    {
     "ename": "NameError",
     "evalue": "name 'flows_File' is not defined",
     "output_type": "error",
     "traceback": [
      "\u001b[0;31m\u001b[0m",
      "\u001b[0;31mNameError\u001b[0mTraceback (most recent call last)",
      "\u001b[0;32m<ipython-input-1-05c4da7ddebd>\u001b[0m in \u001b[0;36m<module>\u001b[0;34m()\u001b[0m\n\u001b[1;32m      6\u001b[0m \u001b[0;34m\u001b[0m\u001b[0m\n\u001b[1;32m      7\u001b[0m flows = (sc\n\u001b[0;32m----> 8\u001b[0;31m          \u001b[0;34m.\u001b[0m\u001b[0mtextFile\u001b[0m\u001b[0;34m(\u001b[0m\u001b[0mflows_File\u001b[0m\u001b[0;34m)\u001b[0m\u001b[0;34m\u001b[0m\u001b[0m\n\u001b[0m\u001b[1;32m      9\u001b[0m          \u001b[0;34m.\u001b[0m\u001b[0mmap\u001b[0m\u001b[0;34m(\u001b[0m\u001b[0mparseData\u001b[0m\u001b[0;34m)\u001b[0m\u001b[0;34m\u001b[0m\u001b[0m\n\u001b[1;32m     10\u001b[0m          \u001b[0;34m.\u001b[0m\u001b[0mmap\u001b[0m\u001b[0;34m(\u001b[0m\u001b[0;32mlambda\u001b[0m \u001b[0ms\u001b[0m\u001b[0;34m:\u001b[0m\u001b[0mtuple\u001b[0m\u001b[0;34m(\u001b[0m\u001b[0;34m[\u001b[0m\u001b[0mint\u001b[0m\u001b[0;34m(\u001b[0m\u001b[0mmath\u001b[0m\u001b[0;34m.\u001b[0m\u001b[0mceil\u001b[0m\u001b[0;34m(\u001b[0m\u001b[0mint\u001b[0m\u001b[0;34m(\u001b[0m\u001b[0ms\u001b[0m\u001b[0;34m[\u001b[0m\u001b[0;36m0\u001b[0m\u001b[0;34m]\u001b[0m\u001b[0;34m)\u001b[0m\u001b[0;34m/\u001b[0m\u001b[0mT\u001b[0m\u001b[0;34m)\u001b[0m\u001b[0;34m)\u001b[0m\u001b[0;34m]\u001b[0m\u001b[0;34m+\u001b[0m\u001b[0;34m(\u001b[0m\u001b[0mlist\u001b[0m\u001b[0;34m(\u001b[0m\u001b[0ms\u001b[0m\u001b[0;34m[\u001b[0m\u001b[0;36m2\u001b[0m\u001b[0;34m:\u001b[0m\u001b[0;34m]\u001b[0m\u001b[0;34m)\u001b[0m\u001b[0;34m)\u001b[0m\u001b[0;34m)\u001b[0m\u001b[0;34m)\u001b[0m\u001b[0;34m\u001b[0m\u001b[0m\n",
      "\u001b[0;31mNameError\u001b[0m: name 'flows_File' is not defined"
     ]
    }
   ],
   "source": [
    "# Time Slot\n",
    "T = 1*1000 # 10 seconds\n",
    "\n",
    "def parseData(logline):\n",
    "    return tuple(logline.split(\",\"))\n",
    "\n",
    "flows = (sc\n",
    "         .textFile(flows_File)\n",
    "         .map(parseData)\n",
    "         .map(lambda s:tuple([int(math.ceil(int(s[0])/T))]+(list(s[2:]))))\n",
    "         .filter(lambda s: (long(s[0])>1440289040 and long(s[0])<=1440289940))\n",
    "         .cache()\n",
    "         )\n",
    "\n",
    "\n",
    "print T"
   ]
  },
  {
   "cell_type": "code",
   "execution_count": 3,
   "metadata": {
    "collapsed": false
   },
   "outputs": [
    {
     "name": "stdout",
     "output_type": "stream",
     "text": [
      "[(1440289211, u'29.251.199.58', u'53', u'16.229.135.205', u'21005', u'300', u'17', u'a0021120e146f1d1e9dc9fe2d382c7d4', u'3d777386cc865269afad5999778447c4')]\n"
     ]
    }
   ],
   "source": [
    "print flows.take(1)\n"
   ]
  },
  {
   "cell_type": "code",
   "execution_count": 5,
   "metadata": {
    "collapsed": false
   },
   "outputs": [],
   "source": [
    "def toCSVLine(data):\n",
    "  return ','.join(str(d) for d in data)\n",
    "\n",
    "lines = flows.map(toCSVLine)\n",
    "lines.saveAsTextFile('/mnt/anon_all_flows_15min.csv')"
   ]
  },
  {
   "cell_type": "code",
   "execution_count": 7,
   "metadata": {
    "collapsed": false
   },
   "outputs": [
    {
     "data": {
      "text/plain": [
       "900"
      ]
     },
     "execution_count": 7,
     "metadata": {},
     "output_type": "execute_result"
    }
   ],
   "source": [
    "ts = flows.map(lambda s: s[0]).distinct().collect()\n",
    "len(ts)"
   ]
  },
  {
   "cell_type": "code",
   "execution_count": 3,
   "metadata": {
    "collapsed": false
   },
   "outputs": [],
   "source": [
    "# Get Data\n",
    "import hashlib\n",
    "import math\n",
    "import json \n",
    "\n",
    "# Load data\n",
    "baseDir = os.path.join('/mnt')\n",
    "flows_File = os.path.join(baseDir, 'anon_all_flows_2h.csv')\n",
    "\n",
    "T = 1000\n",
    "\n",
    "def parseData(logline):\n",
    "    return tuple(logline.split(\",\"))\n",
    "\n",
    "flows = (sc\n",
    "         .textFile(flows_File)\n",
    "         .map(parseData)\n",
    "         .map(lambda s:tuple([int(math.ceil(int(s[0])/T))]+(list(s[2:]))))\n",
    "#          .filter(lambda s: (long(s[0])>1440289040 and long(s[0])<=1440289940))\n",
    "         .cache()\n",
    "         )"
   ]
  },
  {
   "cell_type": "code",
   "execution_count": null,
   "metadata": {
    "collapsed": false
   },
   "outputs": [],
   "source": [
    "ts = flows.map(lambda s: s[0]).distinct().collect()"
   ]
  },
  {
   "cell_type": "code",
   "execution_count": 11,
   "metadata": {
    "collapsed": false
   },
   "outputs": [],
   "source": [
    "ts.sort()"
   ]
  },
  {
   "cell_type": "code",
   "execution_count": 15,
   "metadata": {
    "collapsed": false
   },
   "outputs": [],
   "source": [
    "ts_1000 = [x/1000 for x in ts]\n",
    "final = list(set(ts_1000))\n",
    "final = final[:720]\n",
    "len(final)\n",
    "final"
   ]
  },
  {
   "cell_type": "code",
   "execution_count": null,
   "metadata": {
    "collapsed": true
   },
   "outputs": [],
   "source": []
  }
 ],
 "metadata": {
  "kernelspec": {
   "display_name": "Python 2",
   "language": "python",
   "name": "python2"
  },
  "language_info": {
   "codemirror_mode": {
    "name": "ipython",
    "version": 2
   },
   "file_extension": ".py",
   "mimetype": "text/x-python",
   "name": "python",
   "nbconvert_exporter": "python",
   "pygments_lexer": "ipython2",
   "version": "2.7.6"
  }
 },
 "nbformat": 4,
 "nbformat_minor": 1
}
